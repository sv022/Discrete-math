{
 "cells": [
  {
   "attachments": {},
   "cell_type": "markdown",
   "id": "6059efcd",
   "metadata": {},
   "source": [
    "# Графы"
   ]
  },
  {
   "attachments": {},
   "cell_type": "markdown",
   "id": "2bb2048b",
   "metadata": {},
   "source": [
    "## Связность и разреженность графов. "
   ]
  },
  {
   "attachments": {},
   "cell_type": "markdown",
   "id": "dbe8a4df",
   "metadata": {},
   "source": [
    "\n",
    "![title](images/Снимок_экрана1.jpg)\n"
   ]
  },
  {
   "attachments": {},
   "cell_type": "markdown",
   "id": "9b3416ff",
   "metadata": {},
   "source": [
    "## Гигантсткие компоненты"
   ]
  },
  {
   "attachments": {},
   "cell_type": "markdown",
   "id": "328b16c7",
   "metadata": {},
   "source": [
    "\n",
    "![title](images/Снимок_экрана2.jpg)\n"
   ]
  },
  {
   "attachments": {},
   "cell_type": "markdown",
   "id": "fd5b6604",
   "metadata": {},
   "source": [
    "## Диаметр сложных сетей"
   ]
  },
  {
   "attachments": {},
   "cell_type": "markdown",
   "id": "dff99fcf",
   "metadata": {},
   "source": [
    "\n",
    "![title](images/Снимок_экрана3.jpg)\n"
   ]
  },
  {
   "attachments": {},
   "cell_type": "markdown",
   "id": "34c62bab",
   "metadata": {},
   "source": [
    "## Устойчивость гигантской компоненты"
   ]
  },
  {
   "attachments": {},
   "cell_type": "markdown",
   "id": "b5bb7b77",
   "metadata": {},
   "source": [
    "\n",
    "![title](images/Снимок_экрана4.jpg)\n",
    "\n",
    "![title](images/Снимок_экрана4_1.jpg)\n",
    "\n"
   ]
  },
  {
   "attachments": {},
   "cell_type": "markdown",
   "id": "700c5810",
   "metadata": {},
   "source": [
    "## Устойчивость к атакам на хабы"
   ]
  },
  {
   "attachments": {},
   "cell_type": "markdown",
   "id": "31179960",
   "metadata": {},
   "source": [
    "\n",
    "![title](images/Снимок_экрана5.jpg)\n",
    "\n",
    "![title](images/Снимок_экрана5_2.jpg)\n",
    "\n",
    "![title](images/Снимок_экрана5_3.jpg)\n"
   ]
  },
  {
   "attachments": {},
   "cell_type": "markdown",
   "id": "211e44bf",
   "metadata": {},
   "source": [
    "## Степенной закон распределения вершин"
   ]
  },
  {
   "attachments": {},
   "cell_type": "markdown",
   "id": "824edd9a",
   "metadata": {},
   "source": [
    "\n",
    "![title](images/Снимок_экрана6.jpg)\n"
   ]
  },
  {
   "attachments": {},
   "cell_type": "markdown",
   "id": "42640b23",
   "metadata": {},
   "source": [
    "## Задачи"
   ]
  },
  {
   "attachments": {},
   "cell_type": "markdown",
   "id": "21d8b493",
   "metadata": {},
   "source": [
    "### Задача 1. Рассмотрим модель случайных графов на n вершинах, в котором каждое из возможных ребер проводится независимо от всех остальных с с одной и той же вероятностью. Используя библиотеку NetworkX, сгегенрируйте граф на 1000 вершинах при р=0,003. Оцените разницу между количеством ребер и их ожидаемым количеством. Постройте график распределения вершин в log-log координатах. Оцените степенную зависимость закона распределения вершин. "
   ]
  },
  {
   "cell_type": "code",
   "execution_count": null,
   "id": "cc065936",
   "metadata": {},
   "outputs": [],
   "source": [
    "import networkx as nx\n",
    "import matplotlib\n",
    "matplotlib.rcParams['xtick.labelsize'] = 18\n",
    "matplotlib.rcParams['ytick.labelsize'] = 18\n",
    "import matplotlib.pyplot as plt\n",
    "import pylab\n",
    "%matplotlib inline\n",
    "pylab.rcParams['figure.figsize'] = 10, 10"
   ]
  },
  {
   "cell_type": "code",
   "execution_count": null,
   "id": "9dfe4c39",
   "metadata": {},
   "outputs": [],
   "source": [
    "#Задача 1. Рассмотрим модель случайных графов на n вершинах, в котором каждое из возможных ребер проводится независимо от всех остальных с с одной и той же вероятностью. Используя библиотеку NetworkX, сгегенрируйте граф на 1000 вершинах при р=0,003. Оцените разницу между количеством ребер и их ожидаемым количеством. Постройте график распределения вершин в log-log координатах. Оцените степенную зависимость закона распределения вершин. \n",
    "\n",
    "import networkx as nx\n",
    "import matplotlib.pyplot as plt\n",
    "import numpy as np\n",
    "\n",
    "# Создание случайного графа\n",
    "G = nx.gnp_random_graph(1000, 0.003)\n",
    "\n",
    "# Рассчет количества ребер и ожидаемого количества ребер\n",
    "m = G.number_of_edges()\n",
    "n = G.number_of_nodes()\n",
    "expected_m = n * (n-1) / 2 * 0.003\n",
    "\n",
    "# Вывод результатов\n",
    "print(\"Количество ребер: \", m)\n",
    "print(\"Ожидаемое количество ребер: \", expected_m)\n",
    "print(\"Разница: \", m - expected_m)\n",
    "\n",
    "# Построение гистограммы распределения степеней вершин\n",
    "degrees = [G.degree(n) for n in G.nodes()]\n",
    "plt.hist(degrees, bins=np.logspace(np.log10(1), np.log10(max(degrees)), 50), density=True, log=True)\n",
    "plt.xscale('log')\n",
    "plt.yscale('log')\n",
    "plt.xlabel('Степень вершины')\n",
    "plt.ylabel('Вероятность')\n",
    "plt.show()"
   ]
  },
  {
   "attachments": {},
   "cell_type": "markdown",
   "id": "f2b1060f",
   "metadata": {},
   "source": [
    "### Задача 2. Найдите число компонено связности в графе из предыдущей задачи. Есть ли в нем гигантская уомпонента? Сколько в ней вершин, каков ее диаметр? Удажите из графа 10- ую часть вершин. Остентся ли в графе гигантская компонента? Сделайте исследование при какой доле вершин гигантская компонента разрушается."
   ]
  },
  {
   "cell_type": "code",
   "execution_count": null,
   "id": "24ccb3b0",
   "metadata": {},
   "outputs": [],
   "source": [
    "components = nx.number_connected_components(G)\n",
    "print (components)\n",
    "giant_component_list = sorted(nx.connected_components(G), key=len, reverse=True) # reverse для сортировки по убыванию\n",
    "giant_component = G.subgraph(giant_component_list[0])\n",
    "print (G.subgraph(giant_component))\n",
    "# print(len(max(nx.connected_components(G), key=len))) # количество вершин в гигантской компоненте\n",
    "print (nx.diameter(giant_component))\n"
   ]
  },
  {
   "cell_type": "code",
   "execution_count": null,
   "id": "172d4d3f",
   "metadata": {},
   "outputs": [],
   "source": [
    "#Задача 2. Найдите число компонено связности в графе из предыдущей задачи. Есть ли в нем гигантская уомпонента? Сколько в ней вершин, каков ее диаметр? Удажите из графа 10- ую часть вершин. Остентся ли в графе гигантская компонента? Сделайте исследование при какой доле вершин гигантская компонента разрушается.\n",
    "\n",
    "import networkx as nx\n",
    "import numpy as np\n",
    "import matplotlib.pyplot as plt\n",
    "\n",
    "# Создание графа\n",
    "G = nx.gnp_random_graph(1000, 0.003)\n",
    "\n",
    "# Определение количества компонент связности\n",
    "num_components = nx.number_connected_components(G)\n",
    "print(\"Число компонент связности: \", num_components)\n",
    "\n",
    "# Определение гигантской компоненты и ее характеристик\n",
    "largest_component = max(nx.connected_components(G), key=len)\n",
    "print(\"Число вершин в гигантской компоненте: \", len(largest_component))\n",
    "print(\"Диаметр гигантской компоненты: \", nx.diameter(G.subgraph(largest_component)))\n",
    "\n",
    "# Вывод 10% вершин\n",
    "ten_percent_nodes = np.random.choice(G.nodes(), size=int(G.number_of_nodes() * 0.1), replace=False)\n",
    "print(\"10% вершин: \", ten_percent_nodes)\n",
    "\n",
    "# Исследование гигантской компоненты при удалении доли вершин\n",
    "percentages = [0.1, 0.2, 0.3, 0.4, 0.5, 0.6, 0.7, 0.8, 0.9]\n",
    "for p in percentages:\n",
    "    nodes_to_remove = int(p * G.number_of_nodes())\n",
    "    G_copy = G.copy()\n",
    "    G_copy.remove_nodes_from(np.random.choice(G.nodes(), nodes_to_remove, replace=False))\n",
    "    largest_component = max(nx.connected_components(G_copy), key=len)\n",
    "    if len(largest_component) < 0.1 * G.number_of_nodes():\n",
    "        print(\"При удалении \", p*100, \"% вершин, гигантская компонента разрушилась\")\n",
    "        break\n"
   ]
  },
  {
   "attachments": {},
   "cell_type": "markdown",
   "id": "87d38664",
   "metadata": {},
   "source": [
    "### Задача 3. Найдите число компонено связности в графе из предыдущей задачи. Есть ли в нем гигантская уомпонента? Сколько в ней вершин, каков ее диаметр? Удажите из графа 50 самых больших по степени вершин. Остентся ли в графе гигантская компонента? Сделайте исследование при какой доле вершин гигантская компонента разрушается."
   ]
  },
  {
   "cell_type": "code",
   "execution_count": null,
   "id": "2380c355",
   "metadata": {},
   "outputs": [],
   "source": [
    "#Задача 3. Найдите число компонено связности в графе из предыдущей задачи. Есть ли в нем гигантская уомпонента? Сколько в ней вершин, каков ее диаметр? Удажите из графа 50 самых больших по степени вершин. Остентся ли в графе гигантская компонента? Сделайте исследование при какой доле вершин гигантская компонента разрушается.  \n",
    "\n",
    "import networkx as nx\n",
    "import numpy as np\n",
    "\n",
    "# Создание графа\n",
    "G = nx.gnp_random_graph(1000, 0.003)\n",
    "\n",
    "# Определение количества компонент связности\n",
    "num_components = nx.number_connected_components(G)\n",
    "print(\"Число компонент связности: \", num_components)\n",
    "\n",
    "# Определение гигантской компоненты и ее характеристик\n",
    "largest_component = max(nx.connected_components(G), key=len)\n",
    "print(\"Число вершин в гигантской компоненте: \", len(largest_component))\n",
    "print(\"Диаметр гигантской компоненты: \", nx.diameter(G.subgraph(largest_component)))\n",
    "\n",
    "# Вывод 50 вершин с наибольшей степенью\n",
    "degrees = dict(G.degree())\n",
    "sorted_degrees = sorted(degrees.items(), key=lambda x: x[1], reverse=True)\n",
    "top_50_nodes = [x[0] for x in sorted_degrees[:50]]\n",
    "print(\"50 вершин с наибольшей степенью: \", top_50_nodes)\n",
    "\n",
    "# Исследование гигантской компоненты при удалении доли вершин\n",
    "percentages = [0.1, 0.2, 0.3, 0.4, 0.5, 0.6, 0.7, 0.8, 0.9]\n",
    "for p in percentages:\n",
    "    nodes_to_remove = int(p * G.number_of_nodes())\n",
    "    G_copy = G.copy()\n",
    "    G_copy.remove_nodes_from(np.random.choice(G.nodes(), nodes_to_remove, replace=False))\n",
    "    largest_component = max(nx.connected_components(G_copy), key=len)\n",
    "    if len(largest_component) < 0.1 * G.number_of_nodes():\n",
    "        print(\"При удалении \", p*100, \"% вершин, гигантская компонента разрушилась\")\n",
    "        break"
   ]
  }
 ],
 "metadata": {
  "kernelspec": {
   "display_name": "Python 3 (ipykernel)",
   "language": "python",
   "name": "python3"
  },
  "language_info": {
   "codemirror_mode": {
    "name": "ipython",
    "version": 3
   },
   "file_extension": ".py",
   "mimetype": "text/x-python",
   "name": "python",
   "nbconvert_exporter": "python",
   "pygments_lexer": "ipython3",
   "version": "3.9.7"
  }
 },
 "nbformat": 4,
 "nbformat_minor": 5
}
